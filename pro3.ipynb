{
 "cells": [
  {
   "cell_type": "code",
   "execution_count": 6,
   "id": "1c4fee54-b26e-48c4-ad72-2407a37147bf",
   "metadata": {},
   "outputs": [
    {
     "name": "stdin",
     "output_type": "stream",
     "text": [
      "enter the roll number of syntex (c524m248)= c525m248\n"
     ]
    },
    {
     "name": "stdout",
     "output_type": "stream",
     "text": [
      "extract fields from roll number branch is c5 m\n",
      "roll number 25\n"
     ]
    }
   ],
   "source": [
    "# 3 Extracting fields of a roll number using string indexing and slicing.\n",
    "rollnumber=input(\"enter the roll number of syntex (c524m248)=\")\n",
    "branch=rollnumber[0:2]\n",
    "year=int(rollnumber[2:4])\n",
    "degree=rollnumber[4]\n",
    "classroll=int(rollnumber[5:8])\n",
    "\n",
    "print(\"extract fields from roll number branch is\",branch)"
   ]
  },
  {
   "cell_type": "code",
   "execution_count": null,
   "id": "442a8757-6dbc-4f96-a4fb-4c0a47c60bd2",
   "metadata": {},
   "outputs": [],
   "source": []
  }
 ],
 "metadata": {
  "kernelspec": {
   "display_name": "Python 3 (ipykernel)",
   "language": "python",
   "name": "python3"
  },
  "language_info": {
   "codemirror_mode": {
    "name": "ipython",
    "version": 3
   },
   "file_extension": ".py",
   "mimetype": "text/x-python",
   "name": "python",
   "nbconvert_exporter": "python",
   "pygments_lexer": "ipython3",
   "version": "3.11.4"
  }
 },
 "nbformat": 4,
 "nbformat_minor": 5
}
