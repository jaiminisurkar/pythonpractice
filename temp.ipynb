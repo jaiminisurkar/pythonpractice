{
 "cells": [
  {
   "cell_type": "code",
   "execution_count": 8,
   "id": "01ee9423-8c33-47b3-9891-248021c3932d",
   "metadata": {},
   "outputs": [
    {
     "name": "stdout",
     "output_type": "stream",
     "text": [
      "jaimini\n",
      "hetal\n",
      "hina\n",
      "piya\n",
      "hina\n"
     ]
    }
   ],
   "source": [
    "name=['jaimini','hetal','hina','piya']\n",
    "for x in name:\n",
    "  print(x)\n",
    "\n",
    "\n",
    "name=['jaimini','hetal','hina','piya']\n",
    "for x in name:\n",
    "    if x == 'hina':\n",
    "        print(x)"
   ]
  },
  {
   "cell_type": "code",
   "execution_count": 12,
   "id": "3526dbd4-0087-426f-8edb-9421b14e93fe",
   "metadata": {},
   "outputs": [
    {
     "name": "stdout",
     "output_type": "stream",
     "text": [
      "1\n",
      "2\n",
      "3\n",
      "4\n",
      "5\n",
      "6\n",
      "7\n",
      "8\n",
      "9\n"
     ]
    }
   ],
   "source": [
    "a=[1,2,3,4,5,6,7,8,9]\n",
    "for z in a:\n",
    "   print(z)\n",
    "\n",
    "a=[1,2,3,4,5,8,9]\n",
    "for z in a:\n",
    "    if x == '7':\n",
    "        print(z)"
   ]
  },
  {
   "cell_type": "code",
   "execution_count": 17,
   "id": "9ab63125-4dc3-462c-bf9a-4f8803ad1c80",
   "metadata": {},
   "outputs": [
    {
     "name": "stdout",
     "output_type": "stream",
     "text": [
      "jaimini\n",
      "hetal\n",
      "hina\n",
      "piya\n",
      "h\n",
      "i\n",
      "n\n",
      "a\n",
      "jaimini\n",
      "hetal\n",
      "hina\n"
     ]
    }
   ],
   "source": [
    "a=['jaimini','hetal','hina','piya']\n",
    "for x in a:\n",
    "    print(x)\n",
    "    \n",
    "\n",
    "for x in\"hina\":\n",
    "    print(x)\n",
    "\n",
    "\n",
    "a=['jaimini','hetal','hina','piya']\n",
    "for x in a:\n",
    "    print(x)\n",
    "    if x == \"hina\":\n",
    "        break\n",
    "\n",
    "a=['jaimini','hetal','hina','piya']\n",
    "for x in a:\n",
    " if x == \"hina\":\n",
    "    break\n",
    "    print(x)"
   ]
  },
  {
   "cell_type": "code",
   "execution_count": 24,
   "id": "4eec47a3-4d1d-496b-9864-c9429e4ed33e",
   "metadata": {},
   "outputs": [
    {
     "name": "stdout",
     "output_type": "stream",
     "text": [
      "piya\n"
     ]
    }
   ],
   "source": [
    "a=['jaimini','hetal','hina','piya']\n",
    "for x in a:\n",
    "    if x == \"hetal\":\n",
    "        \n",
    "     continue\n",
    "print(x)"
   ]
  },
  {
   "cell_type": "code",
   "execution_count": 26,
   "id": "b9bc4226-c2fc-4a65-9e92-ea0b3dc4d9c1",
   "metadata": {},
   "outputs": [
    {
     "name": "stdout",
     "output_type": "stream",
     "text": [
      "0\n",
      "1\n",
      "2\n",
      "3\n",
      "4\n",
      "5\n"
     ]
    }
   ],
   "source": [
    "for x in range(6):\n",
    "    print(x)"
   ]
  },
  {
   "cell_type": "code",
   "execution_count": 28,
   "id": "1bd654b7-a32a-45b6-8b1f-265fff3ade93",
   "metadata": {},
   "outputs": [
    {
     "name": "stdout",
     "output_type": "stream",
     "text": [
      "2\n",
      "3\n",
      "4\n",
      "5\n"
     ]
    }
   ],
   "source": [
    "for x in range(2,6):\n",
    "    print(x)"
   ]
  },
  {
   "cell_type": "code",
   "execution_count": 29,
   "id": "a71a3c27-d3c3-4283-945a-d5ae97bbb2b4",
   "metadata": {},
   "outputs": [
    {
     "name": "stdout",
     "output_type": "stream",
     "text": [
      "2\n",
      "5\n",
      "8\n",
      "11\n",
      "14\n",
      "17\n",
      "20\n",
      "23\n",
      "26\n",
      "29\n"
     ]
    }
   ],
   "source": [
    "for x in range(2,30,3):\n",
    "    print(x)"
   ]
  },
  {
   "cell_type": "code",
   "execution_count": null,
   "id": "4bbd7030-a03f-4770-b197-06465f20b15f",
   "metadata": {},
   "outputs": [],
   "source": []
  }
 ],
 "metadata": {
  "kernelspec": {
   "display_name": "Python 3 (ipykernel)",
   "language": "python",
   "name": "python3"
  },
  "language_info": {
   "codemirror_mode": {
    "name": "ipython",
    "version": 3
   },
   "file_extension": ".py",
   "mimetype": "text/x-python",
   "name": "python",
   "nbconvert_exporter": "python",
   "pygments_lexer": "ipython3",
   "version": "3.11.4"
  }
 },
 "nbformat": 4,
 "nbformat_minor": 5
}
