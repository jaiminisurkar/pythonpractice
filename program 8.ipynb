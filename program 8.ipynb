{
 "cells": [
  {
   "cell_type": "code",
   "execution_count": 1,
   "id": "26f01c37-0e5f-4d12-9844-a0cb74159bf1",
   "metadata": {},
   "outputs": [
    {
     "name": "stdin",
     "output_type": "stream",
     "text": [
      "enter marks : 64\n",
      "enter marks : 48\n",
      "enter marks : 49\n",
      "enter marks : 98\n",
      "enter marks : 87\n",
      "enter marks : 09\n",
      "enter marks : 23\n",
      "enter marks : 54\n",
      "enter marks : 76\n",
      "enter marks : 87\n"
     ]
    },
    {
     "name": "stdout",
     "output_type": "stream",
     "text": [
      "____________________\n",
      "pass percentage:80.00\n",
      "fail percentage:20.00\n",
      "_____________________________\n",
      "The out of 10 student's,8 student's is passed,and 2 student's is failed\n",
      "___________________________\n"
     ]
    }
   ],
   "source": [
    "marks=[]\n",
    "for mark in range(10):\n",
    "    mark = int(input(\"enter marks :\"))\n",
    "    marks.append(mark)\n",
    "\n",
    "students = len(marks)\n",
    "\n",
    "passed = sum(mark >=40 for mark in marks)\n",
    "failed = sum(mark <40 for mark in marks)\n",
    "\n",
    "pass_per = (passed/students)*100\n",
    "fail_per = (failed/students)*100\n",
    "\n",
    "print(\"____________________\")\n",
    "print(f\"pass percentage:{pass_per:.2f}\")\n",
    "print(f\"fail percentage:{fail_per:.2f}\")\n",
    "print(\"_____________________________\")\n",
    "print(\"The out of {0} student's,{1} student's is passed,and {2} student's is failed\".format(students,passed,failed))\n",
    "print(\"___________________________\")\n"
   ]
  },
  {
   "cell_type": "code",
   "execution_count": null,
   "id": "1437ea49-0393-4fa3-8429-3536f88f7ea1",
   "metadata": {},
   "outputs": [],
   "source": []
  }
 ],
 "metadata": {
  "kernelspec": {
   "display_name": "Python 3 (ipykernel)",
   "language": "python",
   "name": "python3"
  },
  "language_info": {
   "codemirror_mode": {
    "name": "ipython",
    "version": 3
   },
   "file_extension": ".py",
   "mimetype": "text/x-python",
   "name": "python",
   "nbconvert_exporter": "python",
   "pygments_lexer": "ipython3",
   "version": "3.11.0b4"
  }
 },
 "nbformat": 4,
 "nbformat_minor": 5
}
