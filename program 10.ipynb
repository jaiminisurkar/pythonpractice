{
 "cells": [
  {
   "cell_type": "code",
   "execution_count": 2,
   "id": "5143829d-b75b-4e5b-89a5-bba41a7eb380",
   "metadata": {},
   "outputs": [
    {
     "name": "stdin",
     "output_type": "stream",
     "text": [
      "Enter Any Number: 8\n"
     ]
    },
    {
     "name": "stdout",
     "output_type": "stream",
     "text": [
      "8 4 2 1 "
     ]
    }
   ],
   "source": [
    "# 10\n",
    "no=int(input(\"Enter Any Number:\"))\n",
    "print(no,end=\" \")\n",
    "while(no!=1):\n",
    "    if(no%2==0):\n",
    "        no=int(no/2)\n",
    "        print(no,end=\" \")\n",
    "    else:\n",
    "        no=(no*3)+1\n",
    "        print(no,end=\" \")\n"
   ]
  },
  {
   "cell_type": "code",
   "execution_count": null,
   "id": "6760a50f-444a-4f08-a437-b3589fecc297",
   "metadata": {},
   "outputs": [],
   "source": []
  }
 ],
 "metadata": {
  "kernelspec": {
   "display_name": "Python 3 (ipykernel)",
   "language": "python",
   "name": "python3"
  },
  "language_info": {
   "codemirror_mode": {
    "name": "ipython",
    "version": 3
   },
   "file_extension": ".py",
   "mimetype": "text/x-python",
   "name": "python",
   "nbconvert_exporter": "python",
   "pygments_lexer": "ipython3",
   "version": "3.11.4"
  }
 },
 "nbformat": 4,
 "nbformat_minor": 5
}
