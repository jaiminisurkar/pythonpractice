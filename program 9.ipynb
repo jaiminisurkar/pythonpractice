{
 "cells": [
  {
   "cell_type": "code",
   "execution_count": 1,
   "id": "84874623-198f-4d05-90ae-991a1451dd0b",
   "metadata": {},
   "outputs": [
    {
     "name": "stdout",
     "output_type": "stream",
     "text": [
      "123581321345589\n"
     ]
    }
   ],
   "source": [
    "# 9 print fibonacci sequence.\n",
    "n=10\n",
    "num1=0\n",
    "num2=1\n",
    "next_number=num2\n",
    "count=1\n",
    "\n",
    "while count<=n:\n",
    "    print(next_number,end=\"\")\n",
    "    count+=1\n",
    "    num1,num2=num2,next_number\n",
    "    next_number=num1+num2\n",
    "print()"
   ]
  },
  {
   "cell_type": "code",
   "execution_count": null,
   "id": "7962b6c1-4b5f-4278-8245-94371709c54f",
   "metadata": {},
   "outputs": [],
   "source": []
  }
 ],
 "metadata": {
  "kernelspec": {
   "display_name": "Python 3 (ipykernel)",
   "language": "python",
   "name": "python3"
  },
  "language_info": {
   "codemirror_mode": {
    "name": "ipython",
    "version": 3
   },
   "file_extension": ".py",
   "mimetype": "text/x-python",
   "name": "python",
   "nbconvert_exporter": "python",
   "pygments_lexer": "ipython3",
   "version": "3.11.4"
  }
 },
 "nbformat": 4,
 "nbformat_minor": 5
}
