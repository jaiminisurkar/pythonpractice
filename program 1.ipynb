{
 "cells": [
  {
   "cell_type": "code",
   "execution_count": 1,
   "id": "f65eaa94-4225-413a-af71-78ec6cf57941",
   "metadata": {},
   "outputs": [
    {
     "name": "stdout",
     "output_type": "stream",
     "text": [
      "find probility of card\n",
      "\n",
      "\n",
      "your probility is : 0.6923076923076923\n"
     ]
    }
   ],
   "source": [
    "# 1 a card is drawm at random from a deck of well-shuffled cards.find the probability of it being neither a king nor a spade.\n",
    "print(\"find probility of card\\n\\n\")\n",
    "cards=52\n",
    "spade=13\n",
    "king=4\n",
    "neither=cards-(spade+king-1)\n",
    "\n",
    "probility=(neither/cards)\n",
    "\n",
    "print(\"your probility is :\", probility)\n"
   ]
  },
  {
   "cell_type": "code",
   "execution_count": 1,
   "id": "32fd04b5-4366-4d55-9a78-4f49bb43586a",
   "metadata": {},
   "outputs": [
    {
     "name": "stdout",
     "output_type": "stream",
     "text": [
      "find probility of card\n",
      "\n",
      "\n",
      "your probility is: 1.1923076923076923\n"
     ]
    }
   ],
   "source": [
    "print(\"find probility of card\\n\\n\")\n",
    "cards=52\n",
    "spade=13\n",
    "king=4\n",
    "ayither=cards+(spade-king+1)\n",
    "probility=(ayither/cards)\n",
    "print(\"your probility is:\",probility)"
   ]
  },
  {
   "cell_type": "code",
   "execution_count": null,
   "id": "41d1f5c0-24dd-4b0a-be81-f638c739cf6f",
   "metadata": {},
   "outputs": [],
   "source": []
  }
 ],
 "metadata": {
  "kernelspec": {
   "display_name": "Python 3 (ipykernel)",
   "language": "python",
   "name": "python3"
  },
  "language_info": {
   "codemirror_mode": {
    "name": "ipython",
    "version": 3
   },
   "file_extension": ".py",
   "mimetype": "text/x-python",
   "name": "python",
   "nbconvert_exporter": "python",
   "pygments_lexer": "ipython3",
   "version": "3.11.4"
  }
 },
 "nbformat": 4,
 "nbformat_minor": 5
}
