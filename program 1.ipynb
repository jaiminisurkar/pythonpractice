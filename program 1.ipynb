{
 "cells": [
  {
   "cell_type": "code",
   "execution_count": null,
   "id": "f65eaa94-4225-413a-af71-78ec6cf57941",
   "metadata": {},
   "outputs": [],
   "source": [
    "# 1 a card is drawm at random from a deck of well-shuffled cards.find the probability of it being neither a king nor a spade.\n",
    "print(\"find probility of card\\n\\n\")\n",
    "cards=52\n",
    "spade=13\n",
    "king=4\n",
    "neither=cards-(spade+king-1)\n",
    "\n",
    "probility=(neither/cards)\n",
    "\n",
    "print(\"your probility is :\", probility)\n"
   ]
  }
 ],
 "metadata": {
  "kernelspec": {
   "display_name": "Python 3 (ipykernel)",
   "language": "python",
   "name": "python3"
  },
  "language_info": {
   "codemirror_mode": {
    "name": "ipython",
    "version": 3
   },
   "file_extension": ".py",
   "mimetype": "text/x-python",
   "name": "python",
   "nbconvert_exporter": "python",
   "pygments_lexer": "ipython3",
   "version": "3.11.4"
  }
 },
 "nbformat": 4,
 "nbformat_minor": 5
}
