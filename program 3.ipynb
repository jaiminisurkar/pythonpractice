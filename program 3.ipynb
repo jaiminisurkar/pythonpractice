{
 "cells": [
  {
   "cell_type": "code",
   "execution_count": null,
   "id": "1c4fee54-b26e-48c4-ad72-2407a37147bf",
   "metadata": {},
   "outputs": [],
   "source": [
    "# 3 Extracting fields of a roll number using string indexing and slicimg.\n",
    "A=\"jaimini surkar\"\n",
    "a=\"roll number\"\n",
    "print(a[2:5])\n",
    "print(a[0:11:1])\n",
    "print(a[:8])\n",
    "print(a[-11:-1:2])"
   ]
  }
 ],
 "metadata": {
  "kernelspec": {
   "display_name": "Python 3 (ipykernel)",
   "language": "python",
   "name": "python3"
  },
  "language_info": {
   "codemirror_mode": {
    "name": "ipython",
    "version": 3
   },
   "file_extension": ".py",
   "mimetype": "text/x-python",
   "name": "python",
   "nbconvert_exporter": "python",
   "pygments_lexer": "ipython3",
   "version": "3.11.4"
  }
 },
 "nbformat": 4,
 "nbformat_minor": 5
}
