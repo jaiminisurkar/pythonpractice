{
 "cells": [
  {
   "cell_type": "code",
   "execution_count": 15,
   "id": "26f01c37-0e5f-4d12-9844-a0cb74159bf1",
   "metadata": {},
   "outputs": [
    {
     "name": "stdin",
     "output_type": "stream",
     "text": [
      "Enter the number:  2\n"
     ]
    },
    {
     "name": "stdout",
     "output_type": "stream",
     "text": [
      "A B "
     ]
    }
   ],
   "source": [
    "n = int(input(\"Enter the number: \"))\n",
    "n1 = \"A\"\n",
    "n2 = \"B\"\n",
    "for i in range(1,n +1):\n",
    "    print(n1,end=\" \")\n",
    "    temp = n2 + n1\n",
    "    n1 = n2\n",
    "    n2 = temp"
   ]
  },
  {
   "cell_type": "code",
   "execution_count": null,
   "id": "1437ea49-0393-4fa3-8429-3536f88f7ea1",
   "metadata": {},
   "outputs": [],
   "source": []
  }
 ],
 "metadata": {
  "kernelspec": {
   "display_name": "Python 3 (ipykernel)",
   "language": "python",
   "name": "python3"
  },
  "language_info": {
   "codemirror_mode": {
    "name": "ipython",
    "version": 3
   },
   "file_extension": ".py",
   "mimetype": "text/x-python",
   "name": "python",
   "nbconvert_exporter": "python",
   "pygments_lexer": "ipython3",
   "version": "3.11.0b4"
  }
 },
 "nbformat": 4,
 "nbformat_minor": 5
}
