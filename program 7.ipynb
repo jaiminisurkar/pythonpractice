{
 "cells": [
  {
   "cell_type": "code",
   "execution_count": 2,
   "id": "5143829d-b75b-4e5b-89a5-bba41a7eb380",
   "metadata": {},
   "outputs": [
    {
     "name": "stdin",
     "output_type": "stream",
     "text": [
      "Enter your card: jhjmcbn \n"
     ]
    },
    {
     "name": "stdout",
     "output_type": "stream",
     "text": [
      "*******************\n",
      "You choose not lucky card\n",
      "***********************\n"
     ]
    }
   ],
   "source": [
    "# 7 To read a card as input and output if the card is lucky or not.\n",
    "\n",
    "lucky1 ='king of clubs'\n",
    "lucky2 ='queen of diamonds' \n",
    "lucky3 = 'ace of spades'\n",
    "lucky4 = '10 of hearts'\n",
    "\n",
    "\n",
    "card = input(\"Enter your card:\")\n",
    "\n",
    "new_card=card.split()\n",
    "\n",
    "if(new_card[0]=='king' and new_card[2]=='clubs' or new_card[0]=='queen' and new_card[2]=='diamonds' or new_card[0]=='ace' and new_card[2]=='spades' or new_card[0]=='10' and new_card[2]=='hearts'):\n",
    "    print(\"*****************\")\n",
    "    print(\"You choose lucky card\")\n",
    "    print(\"********************\")\n",
    "else:\n",
    "    print(\"*******************\")\n",
    "    print('You choose not lucky card')\n",
    "    print(\"***********************\")\n"
   ]
  },
  {
   "cell_type": "code",
   "execution_count": null,
   "id": "6760a50f-444a-4f08-a437-b3589fecc297",
   "metadata": {},
   "outputs": [],
   "source": []
  }
 ],
 "metadata": {
  "kernelspec": {
   "display_name": "Python 3 (ipykernel)",
   "language": "python",
   "name": "python3"
  },
  "language_info": {
   "codemirror_mode": {
    "name": "ipython",
    "version": 3
   },
   "file_extension": ".py",
   "mimetype": "text/x-python",
   "name": "python",
   "nbconvert_exporter": "python",
   "pygments_lexer": "ipython3",
   "version": "3.11.4"
  }
 },
 "nbformat": 4,
 "nbformat_minor": 5
}
