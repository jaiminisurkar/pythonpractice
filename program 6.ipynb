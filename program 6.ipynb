{
 "cells": [
  {
   "cell_type": "code",
   "execution_count": 1,
   "id": "1c4fee54-b26e-48c4-ad72-2407a37147bf",
   "metadata": {},
   "outputs": [
    {
     "name": "stdout",
     "output_type": "stream",
     "text": [
      "find your department:\n",
      "\n",
      "\n"
     ]
    },
    {
     "name": "stdin",
     "output_type": "stream",
     "text": [
      "Enter your rollnumber in syntax(c52313148): kjugfyuo\n"
     ]
    },
    {
     "name": "stdout",
     "output_type": "stream",
     "text": [
      "sorry you are not from cs\n"
     ]
    }
   ],
   "source": [
    "# 6 find the student form cs department where the roll number may be in capital or small-case letters.\n",
    "print(\"find your department:\\n\\n\")\n",
    "roll=input(\"Enter your rollnumber in syntax(c52313148):\")\n",
    "\n",
    "if(roll[0]=='c'or roll[0]=='c')and(roll[1]=='s' or roll[1]=='s'):\n",
    "   print(\"yes you are belong to cs\")\n",
    "else:\n",
    "   print(\"sorry you are not from cs\")"
   ]
  },
  {
   "cell_type": "code",
   "execution_count": null,
   "id": "442a8757-6dbc-4f96-a4fb-4c0a47c60bd2",
   "metadata": {},
   "outputs": [],
   "source": []
  }
 ],
 "metadata": {
  "kernelspec": {
   "display_name": "Python 3 (ipykernel)",
   "language": "python",
   "name": "python3"
  },
  "language_info": {
   "codemirror_mode": {
    "name": "ipython",
    "version": 3
   },
   "file_extension": ".py",
   "mimetype": "text/x-python",
   "name": "python",
   "nbconvert_exporter": "python",
   "pygments_lexer": "ipython3",
   "version": "3.11.4"
  }
 },
 "nbformat": 4,
 "nbformat_minor": 5
}
