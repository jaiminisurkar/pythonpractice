{
 "cells": [
  {
   "cell_type": "code",
   "execution_count": null,
   "id": "2a7080b1-c9f7-4671-b3e7-78d057f0ba0c",
   "metadata": {},
   "outputs": [],
   "source": [
    "# 5  write a pogram to find out if the two blood groups mutch.\n",
    "\n",
    "fb=str(input(\"this is a first blood group\"))\n",
    "sb=str(input(\"this is a second blood group\"))\n",
    "if fb == sb:\n",
    "      print(\"the two blood group match\")\n",
    "else:\n",
    "      print(\" the two blood group not match\")"
   ]
  }
 ],
 "metadata": {
  "kernelspec": {
   "display_name": "Python 3 (ipykernel)",
   "language": "python",
   "name": "python3"
  },
  "language_info": {
   "codemirror_mode": {
    "name": "ipython",
    "version": 3
   },
   "file_extension": ".py",
   "mimetype": "text/x-python",
   "name": "python",
   "nbconvert_exporter": "python",
   "pygments_lexer": "ipython3",
   "version": "3.11.4"
  }
 },
 "nbformat": 4,
 "nbformat_minor": 5
}
