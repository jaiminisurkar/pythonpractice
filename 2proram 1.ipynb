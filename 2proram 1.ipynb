{
 "cells": [
  {
   "cell_type": "code",
   "execution_count": 5,
   "id": "26f01c37-0e5f-4d12-9844-a0cb74159bf1",
   "metadata": {},
   "outputs": [
    {
     "name": "stdin",
     "output_type": "stream",
     "text": [
      "Enter any number:  60\n"
     ]
    },
    {
     "name": "stdout",
     "output_type": "stream",
     "text": [
      "1 2 3 4 5 6 10 12 15 20 30 \n",
      "Not Perfact: 60\n"
     ]
    }
   ],
   "source": [
    "number=int(input(\"Enter any number: \"))\n",
    "count=0\n",
    "for i in range(1,(number // 2) + 1):\n",
    "    if number%i==0:\n",
    "        count=count+i\n",
    "        print(i,end=\" \")\n",
    "\n",
    "if count==number:\n",
    "    print(\"\\nPerfact:\",number)\n",
    "else:\n",
    "    print(\"\\nNot Perfact:\",number)\n"
   ]
  },
  {
   "cell_type": "code",
   "execution_count": null,
   "id": "1437ea49-0393-4fa3-8429-3536f88f7ea1",
   "metadata": {},
   "outputs": [],
   "source": []
  }
 ],
 "metadata": {
  "kernelspec": {
   "display_name": "Python 3 (ipykernel)",
   "language": "python",
   "name": "python3"
  },
  "language_info": {
   "codemirror_mode": {
    "name": "ipython",
    "version": 3
   },
   "file_extension": ".py",
   "mimetype": "text/x-python",
   "name": "python",
   "nbconvert_exporter": "python",
   "pygments_lexer": "ipython3",
   "version": "3.11.0b4"
  }
 },
 "nbformat": 4,
 "nbformat_minor": 5
}
