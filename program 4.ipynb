{
 "cells": [
  {
   "cell_type": "code",
   "execution_count": 1,
   "id": "1c4fee54-b26e-48c4-ad72-2407a37147bf",
   "metadata": {},
   "outputs": [
    {
     "name": "stdout",
     "output_type": "stream",
     "text": [
      "jaimini surkar hello  and  hejamini surkar oii\n"
     ]
    }
   ],
   "source": [
    "#4 word shuffle using string manipulation.\n",
    "name=\"jaimini surkar hello\"\n",
    "first=name[:5]\n",
    "second=name[5:15]\n",
    "third=name[15:]\n",
    "\n",
    "first2=first[:2]\n",
    "first3=name[2]\n",
    "first4=first[3:5]\n",
    "first5=first[-1]\n",
    "\n",
    "third2=third[:2]\n",
    "third3=third[-1]\n",
    "\n",
    "name=first+second+third\n",
    "modified=third2+first2+first4+second+third3+first5+first3\n",
    "\n",
    "print(name,\" and \",modified)\n"
   ]
  },
  {
   "cell_type": "code",
   "execution_count": null,
   "id": "442a8757-6dbc-4f96-a4fb-4c0a47c60bd2",
   "metadata": {},
   "outputs": [],
   "source": []
  }
 ],
 "metadata": {
  "kernelspec": {
   "display_name": "Python 3 (ipykernel)",
   "language": "python",
   "name": "python3"
  },
  "language_info": {
   "codemirror_mode": {
    "name": "ipython",
    "version": 3
   },
   "file_extension": ".py",
   "mimetype": "text/x-python",
   "name": "python",
   "nbconvert_exporter": "python",
   "pygments_lexer": "ipython3",
   "version": "3.11.4"
  }
 },
 "nbformat": 4,
 "nbformat_minor": 5
}
