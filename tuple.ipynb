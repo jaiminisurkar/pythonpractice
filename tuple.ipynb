{
 "cells": [
  {
   "cell_type": "code",
   "execution_count": 44,
   "id": "3526dbd4-0087-426f-8edb-9421b14e93fe",
   "metadata": {},
   "outputs": [
    {
     "name": "stdout",
     "output_type": "stream",
     "text": [
      "('a', 12, 2.5)\n",
      "12\n",
      "<class 'tuple'>\n"
     ]
    }
   ],
   "source": [
    "t1=('a',12,2.5,)\n",
    "print(t1)\n",
    "print(t1[1])\n",
    "print(type(t1))"
   ]
  },
  {
   "cell_type": "code",
   "execution_count": 10,
   "id": "b1aeb756-92bd-4088-933f-f8dc762986e5",
   "metadata": {},
   "outputs": [
    {
     "data": {
      "text/plain": [
       "'ccc'"
      ]
     },
     "execution_count": 10,
     "metadata": {},
     "output_type": "execute_result"
    }
   ],
   "source": [
    "x=['a',['bb',['ccc','ddd'],'ee','ff'],'g',['hh','ii'],'j']\n",
    "len(x) #output = 5\n",
    "x[1][1:3][1] #output => 'ee'\n",
    "x[1][1:3][0][0] #output => 'ccc'\n",
    " "
   ]
  },
  {
   "cell_type": "code",
   "execution_count": 11,
   "id": "9d401238-5570-403f-b582-94f3225a270d",
   "metadata": {},
   "outputs": [
    {
     "name": "stdout",
     "output_type": "stream",
     "text": [
      "<class 'set'> <class 'dict'>\n"
     ]
    }
   ],
   "source": [
    "s={1,'a',2}\n",
    "p={}\n",
    "print(type(s),type(p))"
   ]
  },
  {
   "cell_type": "code",
   "execution_count": 12,
   "id": "5059b6b6-52dc-4c6b-b8cc-e9f0e50318e4",
   "metadata": {},
   "outputs": [
    {
     "name": "stdout",
     "output_type": "stream",
     "text": [
      "{1, 2, 'a'}\n"
     ]
    }
   ],
   "source": [
    "print(s)"
   ]
  },
  {
   "cell_type": "code",
   "execution_count": 16,
   "id": "8e1b215b-d232-48ed-b50d-f6bd383e29f4",
   "metadata": {},
   "outputs": [
    {
     "name": "stdout",
     "output_type": "stream",
     "text": [
      "{1, 2, 3, 'a', 'A'}\n"
     ]
    }
   ],
   "source": [
    "s1=[1,2,3,'a','A',1,\"A\"]\n",
    "s2=set(s1)\n",
    "print(s2)"
   ]
  },
  {
   "cell_type": "code",
   "execution_count": 20,
   "id": "76b7094a-65aa-409a-a028-46f5d71ca2bd",
   "metadata": {},
   "outputs": [
    {
     "name": "stdout",
     "output_type": "stream",
     "text": [
      "([1, 2], ['a', 'b', 'c'])\n",
      "<class 'tuple'>\n"
     ]
    }
   ],
   "source": [
    "a=([1,2],['a','b','c'])\n",
    "\n",
    "print(a)\n",
    "print(type(a))"
   ]
  },
  {
   "cell_type": "code",
   "execution_count": 22,
   "id": "a45cd94c-9b4e-40f2-9aca-03df63e8d004",
   "metadata": {},
   "outputs": [
    {
     "data": {
      "text/plain": [
       "set"
      ]
     },
     "execution_count": 22,
     "metadata": {},
     "output_type": "execute_result"
    }
   ],
   "source": [
    "s=set()\n",
    "type(s)"
   ]
  },
  {
   "cell_type": "code",
   "execution_count": 23,
   "id": "4f31e196-b73b-4f76-bbcc-b68d3c48cc12",
   "metadata": {},
   "outputs": [
    {
     "name": "stdout",
     "output_type": "stream",
     "text": [
      "{0, 1, 3, 5, 6, 8}\n"
     ]
    }
   ],
   "source": [
    "ss1={'cat','dog1','cow',\"cow\"}\n",
    "ss2={0,2,4,6,8}\n",
    "ss3={1,2,3,4,5}\n",
    "ss4={'cat2','dog','Dog'}\n"
   ]
  },
  {
   "cell_type": "code",
   "execution_count": 37,
   "id": "9250593f-2a3e-463f-86fd-beb28a63616d",
   "metadata": {},
   "outputs": [
    {
     "name": "stdout",
     "output_type": "stream",
     "text": [
      "{0, 'dog1', 2, 4, 6, 'cat', 8, 'cow'}\n",
      "{0, 1, 3, 5, 6, 8}\n",
      "{0, 1, 3, 5, 6, 8}\n",
      "{'dog1', 'cow', 'cat'}\n",
      "{'Dog', 'cow', 'dog', 'dog1', 'cat2', 'cat'}\n",
      "{1, 2, 3, 4, 5, 'Dog', 'dog', 'cat2'}\n",
      "{'Dog', 'cow', 'dog', 'dog1', 'cat2', 'cat'}\n"
     ]
    }
   ],
   "source": [
    "print(ss1^ss2)\n",
    "print(ss3^ss2)\n",
    "print(ss2^ss3)\n",
    "print(ss1-ss4)\n",
    "print(ss4^ss1)\n",
    "print(ss3^ss4)\n",
    "print(ss4^ss1)"
   ]
  },
  {
   "cell_type": "code",
   "execution_count": 42,
   "id": "21f02f2b-3936-44b3-9bbb-028c0192eb85",
   "metadata": {},
   "outputs": [
    {
     "name": "stdout",
     "output_type": "stream",
     "text": [
      "[1, 2, 3, 4]\n",
      "[1, 3, 4]\n",
      "[2, 4, 6]\n"
     ]
    }
   ],
   "source": [
    "l=[1,2,3,4,5]\n",
    "l.pop() # output => 5\n",
    "print(l)\n",
    "l.pop(1) # output => 2\n",
    "print(l)\n",
    "l1=[2,4,6,8]\n",
    "l1.pop(-1) # output => 8 \n",
    "print(l1)"
   ]
  },
  {
   "cell_type": "code",
   "execution_count": 46,
   "id": "43d6a12f-f3a7-46d8-b08c-e1efa0ba239e",
   "metadata": {},
   "outputs": [
    {
     "name": "stdout",
     "output_type": "stream",
     "text": [
      "{0, 2, 4, 6, 8, 'cow', 'dog1', 'cat'}\n",
      "{2, 4}\n",
      "{0, 8, 6}\n",
      "{'dog1', 'cow', 'cat'}\n",
      "{'Dog', 'cow', 'dog', 'dog1', 'cat2', 'cat'}\n",
      "{1, 2, 3, 4, 5, 'Dog', 'dog', 'cat2'}\n"
     ]
    }
   ],
   "source": [
    "print(ss1|ss2)\n",
    "print(ss3&ss2)\n",
    "print(ss2-ss3)\n",
    "print(ss1-ss4)\n",
    "print(ss4^ss1)\n",
    "print(ss3^ss4)\n"
   ]
  },
  {
   "cell_type": "code",
   "execution_count": 47,
   "id": "b252ddd9-781e-40f8-9366-3656e38294ab",
   "metadata": {},
   "outputs": [
    {
     "data": {
      "text/plain": [
       "tuple"
      ]
     },
     "execution_count": 47,
     "metadata": {},
     "output_type": "execute_result"
    }
   ],
   "source": [
    "t2=10,20,30,40,50\n",
    "type(t2)"
   ]
  },
  {
   "cell_type": "code",
   "execution_count": 51,
   "id": "c92a92ae-3a23-4f35-8ecb-7a29cbaee829",
   "metadata": {},
   "outputs": [
    {
     "name": "stdout",
     "output_type": "stream",
     "text": [
      "set()\n"
     ]
    }
   ],
   "source": [
    "a={1,3}\n",
    "b={1,3,5,7,9}\n",
    "print(a-b)"
   ]
  },
  {
   "cell_type": "code",
   "execution_count": null,
   "id": "196565b2-a4e9-4115-9ad2-711527ac38e3",
   "metadata": {},
   "outputs": [],
   "source": []
  }
 ],
 "metadata": {
  "kernelspec": {
   "display_name": "Python 3 (ipykernel)",
   "language": "python",
   "name": "python3"
  },
  "language_info": {
   "codemirror_mode": {
    "name": "ipython",
    "version": 3
   },
   "file_extension": ".py",
   "mimetype": "text/x-python",
   "name": "python",
   "nbconvert_exporter": "python",
   "pygments_lexer": "ipython3",
   "version": "3.11.4"
  }
 },
 "nbformat": 4,
 "nbformat_minor": 5
}
