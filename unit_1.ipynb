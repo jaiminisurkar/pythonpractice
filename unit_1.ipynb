{
 "cells": [
  {
   "cell_type": "code",
   "execution_count": 1,
   "id": "3d727a5f-4401-491f-bcab-728427c6f2b6",
   "metadata": {},
   "outputs": [
    {
     "name": "stdin",
     "output_type": "stream",
     "text": [
      "Enetr the number: 3\n"
     ]
    },
    {
     "name": "stdout",
     "output_type": "stream",
     "text": [
      "the sum is : 3\n",
      "the sum is : 5\n",
      "the sum is : 6\n"
     ]
    }
   ],
   "source": [
    "# 2 find the sum of the first n natuaral numbers.\n",
    "\n",
    "num=(int(input(\"Enetr the number:\")))\n",
    "if num<0:\n",
    "    print(\"Enter a  positive number\")\n",
    "else:\n",
    "    sum=0\n",
    "    while(num>0):\n",
    "        sum+=num\n",
    "        num-=1\n",
    "        print(\"the sum is :\",sum)\n"
   ]
  },
  {
   "cell_type": "code",
   "execution_count": 11,
   "id": "ad078b51-d928-4a48-aaaf-77cc822f9a43",
   "metadata": {},
   "outputs": [
    {
     "name": "stdout",
     "output_type": "stream",
     "text": [
      "123581321345589\n"
     ]
    }
   ],
   "source": [
    "# 9 print fibonacci sequence.\n",
    "n=10\n",
    "num1=0\n",
    "num2=1\n",
    "next_number=num2\n",
    "count=1\n",
    "\n",
    "while count<=n:\n",
    "    print(next_number,end=\"\")\n",
    "    count+=1\n",
    "    num1,num2=num2,next_number\n",
    "    next_number=num1+num2\n",
    "print()"
   ]
  },
  {
   "cell_type": "code",
   "execution_count": 1,
   "id": "6ce467a4-7e59-4386-acf2-06a86ca74732",
   "metadata": {},
   "outputs": [
    {
     "name": "stdout",
     "output_type": "stream",
     "text": [
      "find probility of card\n",
      "\n",
      "\n",
      "your probility is : 0.6923076923076923\n"
     ]
    }
   ],
   "source": [
    "# 1 a card is drawm at random from a deck of well-shuffled cards.find the probability of it being neither a king nor a spade.\n",
    "print(\"find probility of card\\n\\n\")\n",
    "cards=52\n",
    "spade=13\n",
    "king=4\n",
    "neither=cards-(spade+king-1)\n",
    "\n",
    "probility=(neither/cards)\n",
    "\n",
    "print(\"your probility is :\", probility)\n"
   ]
  },
  {
   "cell_type": "code",
   "execution_count": 13,
   "id": "8195db2c-59cc-4e93-9095-7ea24f666aeb",
   "metadata": {},
   "outputs": [
    {
     "name": "stdout",
     "output_type": "stream",
     "text": [
      "0 1 2 3 4 5 6 7 8 9 "
     ]
    }
   ],
   "source": [
    "n=10\n",
    "\n",
    "for i in range(n):\n",
    " print(i ,end=\" \")"
   ]
  },
  {
   "cell_type": "code",
   "execution_count": 28,
   "id": "01842461-c8ca-460b-8f8e-cc679a3e0122",
   "metadata": {},
   "outputs": [
    {
     "name": "stdout",
     "output_type": "stream",
     "text": [
      "ll \n",
      "roll number\n",
      "roll num\n",
      "rl ub\n"
     ]
    }
   ],
   "source": [
    "# 3 Extracting fields of a roll number using string indexing and slicimg.\n",
    "A=\"jaimini surkar\"\n",
    "a=\"roll number\"\n",
    "print(a[2:5])\n",
    "print(a[0:11:1])\n",
    "print(a[:8])\n",
    "print(a[-11:-1:2])"
   ]
  },
  {
   "cell_type": "code",
   "execution_count": null,
   "id": "d994a83d-41d0-4f10-97d9-b050c8b565ec",
   "metadata": {},
   "outputs": [],
   "source": [
    "print(\"predefined set of lucky cards\")\n",
    "print(\"_Ace of spade\")\n",
    "print(\"_Any of heart\")\n",
    "print(\"_Queen of diamond\")\n",
    "print(\"_king of diamond\")\n",
    "print(\"_Any of 7\")\n",
    "\n",
    "card, of, suits=input(\"Enter the cards:\").split()\n",
    "\n",
    "if (card == \"Ace\" and suits == 'spade') or(suits =='heart')or(card=='Queen' and suits==\"diamond\")or(card==\"king\" and suits==\"diamond\")or suits==\"7\":\n",
    "   print(\"congratulate you win\")\n",
    "else:\n",
    "   print(\"Better luck next time\")"
   ]
  },
  {
   "cell_type": "code",
   "execution_count": null,
   "id": "424f0814-b525-416e-b835-3739efb75de5",
   "metadata": {},
   "outputs": [],
   "source": [
    "# 12\n",
    "print(\"find birtdays in given month\")\n",
    "\n",
    "Date=\"jemmu\":\"07/09/2003\",\"prnav\":\"27/03/2005\",\"piyush\":\"09/09/2003\",\"hetal\":\"25/05/2004\"\n",
    "\n",
    "for name,day in date.items():\n",
    "    if day[3:5]==\"07\":\n",
    "        print(name)"
   ]
  },
  {
   "cell_type": "code",
   "execution_count": 5,
   "id": "686a3b2a-3d76-4629-9c3d-6e874b12da43",
   "metadata": {},
   "outputs": [
    {
     "name": "stdout",
     "output_type": "stream",
     "text": [
      "find your department:\n",
      "\n",
      "\n"
     ]
    },
    {
     "name": "stdin",
     "output_type": "stream",
     "text": [
      "Enter your rollnumber in syntax(c52313148): c52313148\n"
     ]
    },
    {
     "name": "stdout",
     "output_type": "stream",
     "text": [
      "sorry you are not from cs\n"
     ]
    }
   ],
   "source": [
    "# 6\n",
    "print(\"find your department:\\n\\n\")\n",
    "roll=input(\"Enter your rollnumber in syntax(c52313148):\")\n",
    "\n",
    "if(roll[0]=='c'or roll[0]=='c')and(roll[1]=='s' or roll[1]=='s'):\n",
    "   print(\"yes you are belong to cs\")\n",
    "else:\n",
    "   print(\"sorry you are not from cs\")"
   ]
  },
  {
   "cell_type": "code",
   "execution_count": null,
   "id": "7193b8d6-36e9-457c-9a20-a65616990f62",
   "metadata": {},
   "outputs": [],
   "source": [
    "# 3\n",
    "rollnumber=input(\"enter the roll number of syntex (c524m248)=\")\n",
    "branch=rollnumber[0:2]\n",
    "year=int(rollnumber[2:4])\n",
    "degree=rollnumber[4]\n",
    "classroll=int(rollnumber[5:8])\n",
    "\n",
    "print(\"Extract fields from roll number:branch is,\"branch\")"
   ]
  }
 ],
 "metadata": {
  "kernelspec": {
   "display_name": "Python 3 (ipykernel)",
   "language": "python",
   "name": "python3"
  },
  "language_info": {
   "codemirror_mode": {
    "name": "ipython",
    "version": 3
   },
   "file_extension": ".py",
   "mimetype": "text/x-python",
   "name": "python",
   "nbconvert_exporter": "python",
   "pygments_lexer": "ipython3",
   "version": "3.11.4"
  }
 },
 "nbformat": 4,
 "nbformat_minor": 5
}
