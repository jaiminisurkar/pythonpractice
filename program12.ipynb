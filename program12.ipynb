{
 "cells": [
  {
   "cell_type": "code",
   "execution_count": null,
   "id": "5143829d-b75b-4e5b-89a5-bba41a7eb380",
   "metadata": {},
   "outputs": [],
   "source": [
    "price = int(input('Enter your Price: '))\n",
    "deno1, deno2, deno3 = map(int, input('Denominations: ').split())\n",
    "print(\"Can you form\", price, \"exactly using\", deno1, deno2, deno3, \"?\")\n",
    "for d1 in range(0, 1 + price // deno1):\n",
    "    for d2 in range(0, 1 + price // deno2):\n",
    "        for d3 in range(0, 1 + price // deno3):\n",
    "            if d1 * deno1 + d2 * deno2 + d3 * deno3 == price:\n",
    "                print(d1, d2, d3)\n",
    "else:\n",
    "    print('No') \n"
   ]
  },
  {
   "cell_type": "code",
   "execution_count": null,
   "id": "6760a50f-444a-4f08-a437-b3589fecc297",
   "metadata": {},
   "outputs": [],
   "source": []
  }
 ],
 "metadata": {
  "kernelspec": {
   "display_name": "Python 3 (ipykernel)",
   "language": "python",
   "name": "python3"
  },
  "language_info": {
   "codemirror_mode": {
    "name": "ipython",
    "version": 3
   },
   "file_extension": ".py",
   "mimetype": "text/x-python",
   "name": "python",
   "nbconvert_exporter": "python",
   "pygments_lexer": "ipython3",
   "version": "3.11.4"
  }
 },
 "nbformat": 4,
 "nbformat_minor": 5
}
