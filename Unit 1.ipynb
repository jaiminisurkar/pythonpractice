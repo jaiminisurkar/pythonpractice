{
 "cells": [
  {
   "cell_type": "code",
   "execution_count": null,
   "id": "3d727a5f-4401-491f-bcab-728427c6f2b6",
   "metadata": {},
   "outputs": [],
   "source": [
    "# 2 find the sum of the first n natuaral numbers.\n",
    "\n",
    "num=(int(input(\"Enetr the number:\")))\n",
    "if num<0:\n",
    "    print(\"Enter a  positive number\")\n",
    "else:\n",
    "    sum=0\n",
    "    while(num>0):\n",
    "        sum+=num\n",
    "        num-=1\n",
    " print(\"the sum is :\",sum)\n"
   ]
  },
  {
   "cell_type": "code",
   "execution_count": 3,
   "id": "ad078b51-d928-4a48-aaaf-77cc822f9a43",
   "metadata": {},
   "outputs": [
    {
     "name": "stdout",
     "output_type": "stream",
     "text": [
      "123581321345589\n"
     ]
    }
   ],
   "source": [
    "# 9 print fibonacci sequence.\n",
    "n=10\n",
    "num1=0\n",
    "num2=1\n",
    "next_number=num2\n",
    "count=1\n",
    "\n",
    "while \n",
    "for count<=n:\n",
    "    print(next_number,end=\"\")\n",
    "    count+=1\n",
    "    num1,num2=num2,next_number\n",
    "    next_number=num1+num2\n",
    "print()\n",
    "\n",
    "for count<=n:\n",
    "     print(next_number,end=\" \")\n",
    "      count"
   ]
  },
  {
   "cell_type": "code",
   "execution_count": null,
   "id": "6ce467a4-7e59-4386-acf2-06a86ca74732",
   "metadata": {},
   "outputs": [],
   "source": [
    "# 5 write a program to find out if two blood groups match.\n",
    "\n",
    "\n"
   ]
  },
  {
   "cell_type": "code",
   "execution_count": 1,
   "id": "7e01054f-37cc-4b6d-b2d5-21ca29d54270",
   "metadata": {},
   "outputs": [
    {
     "name": "stdout",
     "output_type": "stream",
     "text": [
      "{1: 1}\n",
      "{1: 1, 2: 4}\n",
      "{1: 1, 2: 4, 3: 9}\n",
      "{1: 1, 2: 4, 3: 9, 4: 16}\n",
      "{1: 1, 2: 4, 3: 9, 4: 16, 5: 25}\n",
      "{1: 1, 2: 4, 3: 9, 4: 16, 5: 25, 6: 36}\n",
      "{1: 1, 2: 4, 3: 9, 4: 16, 5: 25, 6: 36, 7: 49}\n",
      "{1: 1, 2: 4, 3: 9, 4: 16, 5: 25, 6: 36, 7: 49, 8: 64}\n",
      "{1: 1, 2: 4, 3: 9, 4: 16, 5: 25, 6: 36, 7: 49, 8: 64, 9: 81}\n"
     ]
    }
   ],
   "source": [
    "d1={}\n",
    "for i in range(1,10):\n",
    "    d1[i]=i*i\n",
    "    print(d1)"
   ]
  },
  {
   "cell_type": "code",
   "execution_count": 3,
   "id": "a1958e4e-ca6c-4ab3-8733-02e4afccb6f8",
   "metadata": {},
   "outputs": [
    {
     "data": {
      "text/plain": [
       "range"
      ]
     },
     "execution_count": 3,
     "metadata": {},
     "output_type": "execute_result"
    }
   ],
   "source": [
    "k=range(5)\n",
    "type(k)\n",
    "#print(k)"
   ]
  },
  {
   "cell_type": "code",
   "execution_count": 7,
   "id": "1167a3fc-884a-4239-ad14-66466846f3e0",
   "metadata": {},
   "outputs": [
    {
     "name": "stdout",
     "output_type": "stream",
     "text": [
      "1 3 5 7 9 "
     ]
    }
   ],
   "source": [
    "for i in range(10):\n",
    "  if i % 2!=0:\n",
    "    print(i,end=\" \")"
   ]
  },
  {
   "cell_type": "code",
   "execution_count": 8,
   "id": "9e2b3ffb-f780-4711-8e75-d8fa1fed7e43",
   "metadata": {},
   "outputs": [
    {
     "name": "stdin",
     "output_type": "stream",
     "text": [
      "What is the donor's blood group?  a\n",
      "What is the donor's Rh factor?  b\n",
      "What is the patient's blood group?  o\n",
      "What is the patient's Rh factor?  c\n"
     ]
    },
    {
     "name": "stdout",
     "output_type": "stream",
     "text": [
      "Both blood group and Rh factor do not match.\n"
     ]
    },
    {
     "name": "stdin",
     "output_type": "stream",
     "text": [
      "What is the donor's blood group?  a\n",
      "What is the donor's Rh factor?  a\n",
      "What is the patient's blood group?  a\n",
      "What is the patient's Rh factor?  a\n"
     ]
    },
    {
     "name": "stdout",
     "output_type": "stream",
     "text": [
      "Match.\n"
     ]
    }
   ],
   "source": [
    "LoopVar = True\n",
    "while LoopVar == True:\n",
    "\tDonorBlood, DonorRh = input(\"What is the donor's blood group? \"), input(\"What is the donor's Rh factor? \")\n",
    "\tPatientBlood, PatientRh = input(\"What is the patient's blood group? \"), input(\"What is the patient's Rh factor? \")\n",
    "\tNoComp = False\n",
    "\tif DonorBlood != \"O\" and DonorBlood != PatientBlood and PatientBlood !=\"AB\":\n",
    "\t\tNoComp = True\n",
    "\tif DonorRh != '-' and PatientRh != DonorRh:\n",
    "\t\tif NoComp == True:\n",
    "\t\t\tprint(\"Both blood group and Rh factor do not match.\")\n",
    "\t\telse:\n",
    "\t\t\tprint(\"Rh factors do not match.\")\n",
    "\telse:\n",
    "\t\tif NoComp == True:\n",
    "\t\t\tprint(\"Blood groups do not match.\")\n",
    "\t\telse:\n",
    "\t\t\tprint(\"Match.\")\n",
    "\t\t\tLoopVar = False"
   ]
  },
  {
   "cell_type": "code",
   "execution_count": 15,
   "id": "ea80cea4-3672-4305-948a-7c359c2f1570",
   "metadata": {},
   "outputs": [
    {
     "name": "stdout",
     "output_type": "stream",
     "text": [
      "find probility of card\n",
      "\n",
      "\n",
      "your probility is : 0.6923076923076923\n"
     ]
    }
   ],
   "source": [
    "# 1 a card is drawm at random from a deck of well-shuffled cards.find the probability of it being neither a king nor a spade.\n",
    "print(\"find probility of card\\n\\n\")\n",
    "cards=52\n",
    "spade=13\n",
    "king=4\n",
    "neither=cards-(spade+king-1)\n",
    "\n",
    "probility=(neither/cards)\n",
    "\n",
    "print(\"your probility is :\", probility)\n"
   ]
  },
  {
   "cell_type": "code",
   "execution_count": 8,
   "id": "3af18106-f299-4967-a399-e3fbce387b38",
   "metadata": {},
   "outputs": [
    {
     "name": "stdin",
     "output_type": "stream",
     "text": [
      "this is a first blood group a\n",
      "this is a second blood group b\n"
     ]
    },
    {
     "name": "stdout",
     "output_type": "stream",
     "text": [
      " the two blood group not match\n"
     ]
    }
   ],
   "source": [
    "# 5  write a pogram to find out if the two blood groups mutch.\n",
    "\n",
    "fb=str(input(\"this is a first blood group\"))\n",
    "sb=str(input(\"this is a second blood group\"))\n",
    "if fb == sb:\n",
    "      print(\"the two blood group match\")\n",
    "else:\n",
    "      print(\" the two blood group not match\")"
   ]
  },
  {
   "cell_type": "code",
   "execution_count": 2,
   "id": "43712251-240f-45b2-ac80-2e4c18c6925c",
   "metadata": {},
   "outputs": [
    {
     "name": "stdout",
     "output_type": "stream",
     "text": [
      "predefined set of lucky cards\n",
      "_Ace of spade\n",
      "_Any of heart\n",
      "_Queen of diamond\n",
      "_king of diamond\n",
      "_Any of 7\n"
     ]
    },
    {
     "name": "stdin",
     "output_type": "stream",
     "text": [
      "Enter the cards: Queen\n"
     ]
    },
    {
     "ename": "ValueError",
     "evalue": "not enough values to unpack (expected 3, got 1)",
     "output_type": "error",
     "traceback": [
      "\u001b[1;31m---------------------------------------------------------------------------\u001b[0m",
      "\u001b[1;31mValueError\u001b[0m                                Traceback (most recent call last)",
      "Cell \u001b[1;32mIn[2], line 8\u001b[0m\n\u001b[0;32m      5\u001b[0m \u001b[38;5;28mprint\u001b[39m(\u001b[38;5;124m\"\u001b[39m\u001b[38;5;124m_king of diamond\u001b[39m\u001b[38;5;124m\"\u001b[39m)\n\u001b[0;32m      6\u001b[0m \u001b[38;5;28mprint\u001b[39m(\u001b[38;5;124m\"\u001b[39m\u001b[38;5;124m_Any of 7\u001b[39m\u001b[38;5;124m\"\u001b[39m)\n\u001b[1;32m----> 8\u001b[0m card, of, suits\u001b[38;5;241m=\u001b[39m\u001b[38;5;28minput\u001b[39m(\u001b[38;5;124m\"\u001b[39m\u001b[38;5;124mEnter the cards:\u001b[39m\u001b[38;5;124m\"\u001b[39m)\u001b[38;5;241m.\u001b[39msplit()\n\u001b[0;32m     10\u001b[0m \u001b[38;5;28;01mif\u001b[39;00m (card \u001b[38;5;241m==\u001b[39m \u001b[38;5;124m\"\u001b[39m\u001b[38;5;124mAce\u001b[39m\u001b[38;5;124m\"\u001b[39m \u001b[38;5;129;01mand\u001b[39;00m suits \u001b[38;5;241m==\u001b[39m \u001b[38;5;124m'\u001b[39m\u001b[38;5;124mspade\u001b[39m\u001b[38;5;124m'\u001b[39m) \u001b[38;5;129;01mor\u001b[39;00m(suits \u001b[38;5;241m==\u001b[39m\u001b[38;5;124m'\u001b[39m\u001b[38;5;124mheart\u001b[39m\u001b[38;5;124m'\u001b[39m)\u001b[38;5;129;01mor\u001b[39;00m(card\u001b[38;5;241m==\u001b[39m\u001b[38;5;124m'\u001b[39m\u001b[38;5;124mQueen\u001b[39m\u001b[38;5;124m'\u001b[39m \u001b[38;5;129;01mand\u001b[39;00m suits\u001b[38;5;241m==\u001b[39m\u001b[38;5;124m\"\u001b[39m\u001b[38;5;124mdiamond\u001b[39m\u001b[38;5;124m\"\u001b[39m)\u001b[38;5;129;01mor\u001b[39;00m(card\u001b[38;5;241m==\u001b[39m\u001b[38;5;124m\"\u001b[39m\u001b[38;5;124mking\u001b[39m\u001b[38;5;124m\"\u001b[39m \u001b[38;5;129;01mand\u001b[39;00m suits\u001b[38;5;241m==\u001b[39m\u001b[38;5;124m\"\u001b[39m\u001b[38;5;124mdiamond\u001b[39m\u001b[38;5;124m\"\u001b[39m)\u001b[38;5;129;01mor\u001b[39;00m suits\u001b[38;5;241m==\u001b[39m\u001b[38;5;124m\"\u001b[39m\u001b[38;5;124m7\u001b[39m\u001b[38;5;124m\"\u001b[39m:\n\u001b[0;32m     11\u001b[0m    \u001b[38;5;28mprint\u001b[39m(\u001b[38;5;124m\"\u001b[39m\u001b[38;5;124mcongratulate you win\u001b[39m\u001b[38;5;124m\"\u001b[39m)\n",
      "\u001b[1;31mValueError\u001b[0m: not enough values to unpack (expected 3, got 1)"
     ]
    }
   ],
   "source": [
    "print(\"predefined set of lucky cards\")\n",
    "print(\"_Ace of spade\")\n",
    "print(\"_Any of heart\")\n",
    "print(\"_Queen of diamond\")\n",
    "print(\"_king of diamond\")\n",
    "print(\"_Any of 7\")\n",
    "\n",
    "card, of, suits=input(\"Enter the cards:\").split()\n",
    "\n",
    "if (card == \"Ace\" and suits == 'spade') or(suits =='heart')or(card=='Queen' and suits==\"diamond\")or(card==\"king\" and suits==\"diamond\")or suits==\"7\":\n",
    "   print(\"congratulate you win\")\n",
    "else:\n",
    "   print(\"Better luck next time\")\n",
    "\n"
   ]
  },
  {
   "cell_type": "code",
   "execution_count": 10,
   "id": "29b944ac-6e53-4c7a-b3e7-2c5559113a65",
   "metadata": {},
   "outputs": [
    {
     "ename": "SyntaxError",
     "evalue": "invalid syntax (649917151.py, line 6)",
     "output_type": "error",
     "traceback": [
      "\u001b[1;36m  Cell \u001b[1;32mIn[10], line 6\u001b[1;36m\u001b[0m\n\u001b[1;33m    if day(3:5)==\"07\":\u001b[0m\n\u001b[1;37m            ^\u001b[0m\n\u001b[1;31mSyntaxError\u001b[0m\u001b[1;31m:\u001b[0m invalid syntax\n"
     ]
    }
   ],
   "source": [
    "print(\"find birtdays in given month\")\n",
    "\n",
    "Date=\"jemmu\"\"07/09/2003\",\"prnav\"\"27/03/2005\",\"piyush\"\"09/09/2003\",\"hetal\"\"25/05/2004\"\n",
    "\n",
    "for name,day in Date.items():\n",
    "    if day(3:5)==\"07\":\n",
    "        print(name)"
   ]
  },
  {
   "cell_type": "code",
   "execution_count": null,
   "id": "ad6af614-11b9-46ba-b5d1-8d8b16e6a151",
   "metadata": {},
   "outputs": [],
   "source": []
  }
 ],
 "metadata": {
  "kernelspec": {
   "display_name": "Python 3 (ipykernel)",
   "language": "python",
   "name": "python3"
  },
  "language_info": {
   "codemirror_mode": {
    "name": "ipython",
    "version": 3
   },
   "file_extension": ".py",
   "mimetype": "text/x-python",
   "name": "python",
   "nbconvert_exporter": "python",
   "pygments_lexer": "ipython3",
   "version": "3.11.4"
  }
 },
 "nbformat": 4,
 "nbformat_minor": 5
}
